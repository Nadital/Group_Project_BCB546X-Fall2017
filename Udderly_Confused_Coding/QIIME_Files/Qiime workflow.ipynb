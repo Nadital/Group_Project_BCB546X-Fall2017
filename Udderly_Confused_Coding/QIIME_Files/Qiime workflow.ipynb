{
 "cells": [
  {
   "cell_type": "code",
   "execution_count": null,
   "metadata": {
    "collapsed": true
   },
   "outputs": [],
   "source": [
    "# Step 0, activate the software Qiime\n",
    "\n",
    "source activate qiime1"
   ]
  },
  {
   "cell_type": "code",
   "execution_count": null,
   "metadata": {
    "collapsed": true
   },
   "outputs": [],
   "source": [
    "# Step 1, convert fastq file to fasta file together with quality score\n",
    "\n",
    "convert_fastaqual_fastq.py -c fastq_to_fastaqual -f SRR1778214.fastq -o fastaqual/\n",
    "\n",
    "# Output: SRR1778214.fna (fasta format), SRR1778214.qual (quality score)"
   ]
  },
  {
   "cell_type": "code",
   "execution_count": null,
   "metadata": {
    "collapsed": true
   },
   "outputs": [],
   "source": [
    "# Step 2: check the quality of the sequence file\n",
    "\n",
    "quality_scores_plot.py -q SRR1778214 -o quality_histogram/\n",
    "\n",
    "# Output: quality_scores_plot.pdf (histogram of the quality score)\n",
    "\n",
    "# Truncate the sequence to 250bp\n",
    "truncate_fasta_qual_files.py -f SRR1778214.fna -q SRR1778214.qual -b 250 -o filtered250\n",
    "\n",
    "# However, after examining the quality score histogram, we determined that \n",
    "# the quality of sequence file is decent and truncation is likely to be processed prior to\n",
    "# our downloading of the data"
   ]
  },
  {
   "cell_type": "code",
   "execution_count": null,
   "metadata": {
    "collapsed": true
   },
   "outputs": [],
   "source": [
    "# Step 3: Generate the map file \n",
    "\n",
    "# Step 3.1: Generate the barcode\n",
    "extract_barcodes.py -f SRR1778214.fastq -c barcode_single_end --bc1_len 12 -o processed_seqs\n",
    "# Output: barcodes.fastq (fastq file containing all the barcodes)\n",
    "\n",
    "# Convert the barcode fastq file to fasta file\n",
    "convert_fastaqual_fastq.py -c fastq_to_fastaqual -f barcodes.fastq -o barcodes/\n",
    "# Output: barcodes.fna (barcodes in fasta format)\n",
    "\n",
    "# The map file supported by Qiime is a tab-delimited txt file.\n",
    "# Excel is used to generate the map file.  \n",
    "# Duplicated barcodes will yield error messages on Qiime thus duplicated barcodes were removed\n",
    "\n",
    "# Output: map_no_dup.txt\n",
    "\n",
    "# Check the if the map file is valide\n",
    "validate_mapping_file.py -m     map_no_dup.txt -o validate_mapping_file_output\n",
    "\n",
    "# No error messages yieled, continue on with the map file"
   ]
  },
  {
   "cell_type": "code",
   "execution_count": null,
   "metadata": {
    "collapsed": true
   },
   "outputs": [],
   "source": [
    "# Step 4: Split the file based on barcodes\n",
    "split_libraries.py -m map_no_dup.txt -f SRR1778214.fna -q SRR1778214.qual -o split_output\n",
    "\n",
    "# Ideally, the next step should use the split sequence file. \n",
    "# After checking the output, no split sequence file was generated, thus we drew the conclusion that\n",
    "# it is okay to continue the analysis using the original file."
   ]
  },
  {
   "cell_type": "code",
   "execution_count": null,
   "metadata": {
    "collapsed": true
   },
   "outputs": [],
   "source": [
    "# Step 5: OTU picking\n",
    "pick_otus.py -i SRR1778214.fna -o OTU_result\n",
    "\n",
    "# Output: SRR1778214_clusters.uc (tab-delimited file containing the OTU information)"
   ]
  },
  {
   "cell_type": "code",
   "execution_count": null,
   "metadata": {
    "collapsed": true
   },
   "outputs": [],
   "source": [
    "# Step 6: Taxaonomy assignment\n",
    "assign_taxonomy.py -i SRR1778214.fna -o taxo_output\n",
    "\n",
    "# Output: SRR1778214_tax_assignments.txt (table of the taxaonomy)"
   ]
  },
  {
   "cell_type": "code",
   "execution_count": null,
   "metadata": {
    "collapsed": true
   },
   "outputs": [],
   "source": [
    "# Step 7: Generate the OTU table:\n",
    "make_otu_table.py -i SRR1778214_otus.txt -t SRR1778214_tax_assignments.txt -o otu_table.biom\n",
    "summarize_taxa.py -i otu_table.biom -o tax_summary\n",
    "\n",
    "# Output: otu_table_L2-L6 "
   ]
  },
  {
   "cell_type": "code",
   "execution_count": null,
   "metadata": {
    "collapsed": true
   },
   "outputs": [],
   "source": [
    "# Step 8: plotting using ggplot2 in R\n",
    "\n",
    "# The OTU tables were opened and processed via Excel\n",
    "# File : taxa_assignment_cleaned.csv\n",
    "\n",
    "# Following the R script taxa_plot.R to plot the OTU table."
   ]
  }
 ],
 "metadata": {
  "kernelspec": {
   "display_name": "Python 3",
   "language": "python",
   "name": "python3"
  },
  "language_info": {
   "codemirror_mode": {
    "name": "ipython",
    "version": 3
   },
   "file_extension": ".py",
   "mimetype": "text/x-python",
   "name": "python",
   "nbconvert_exporter": "python",
   "pygments_lexer": "ipython3",
   "version": "3.6.2"
  }
 },
 "nbformat": 4,
 "nbformat_minor": 2
}
