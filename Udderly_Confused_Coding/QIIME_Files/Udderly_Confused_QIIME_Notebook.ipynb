{
 "cells": [
  {
   "cell_type": "markdown",
   "metadata": {},
   "source": [
    "# Udderly-Confused-"
   ]
  },
  {
   "cell_type": "markdown",
   "metadata": {},
   "source": [
    "Used European Nucleotide Archive to pull the FASTQ files. from the SRA number given from the accession number on the paper"
   ]
  },
  {
   "cell_type": "markdown",
   "metadata": {},
   "source": [
    "Did a large file download with the ENA FTP downloader"
   ]
  },
  {
   "cell_type": "markdown",
   "metadata": {},
   "source": [
    "Transfered files to HPC-class from the desktop files with following code:\n",
    "\n",
    "    $ scp ERR1248800.fastq nadital@hpc-class.its.iastate.edu:/home/nadital/BCB546X-Fall2017/Final_Group_Project"
   ]
  },
  {
   "cell_type": "markdown",
   "metadata": {
    "collapsed": true
   },
   "source": [
    "We used this code to convert fastq to fast files, and generate the quality scores at the same time:\n",
    "\n",
    "    convert_fastaqul_fastq.py -c fastq_to_fastaqual -f SRR1778214.fastq -o SRR1778214.fasta"
   ]
  },
  {
   "cell_type": "markdown",
   "metadata": {},
   "source": [
    "Attempted to download QIIME to run the demultiplexing and quality filtering. QIIME requires Miniconda3 to run for Python 3. Additionally, QIIME is only available for Macs. In order to run on a Windows system, requires an alternative install with QIIME Virtual Box, also requiring a lot of additional packages. We attempted to run:\n",
    "\n",
    "    module load qiime/1.9.1\n",
    "\n",
    "on HPC-class, but that also require additional packages and we were unable to run any scripts as it stated qiime: command not found. Hylia was able to download QIIME on her Mac and we moved forward with the following scripts:"
   ]
  },
  {
   "cell_type": "markdown",
   "metadata": {},
   "source": [
    "This is to plot the quality scores:\n",
    "\n",
    "    quality_scores_plot.py -q SRR1778214.qual -o quality_histogram/"
   ]
  },
  {
   "cell_type": "markdown",
   "metadata": {},
   "source": [
    "We reviewed the histogram and based upon the graph, did not need to truncate the fastq file.\n",
    "Now we are determing the barcode sequences with the following script:\n",
    "\n",
    "    extract_barcodes.py -f SRR1778214.fastq -o barcoded_seqs"
   ]
  },
  {
   "cell_type": "code",
   "execution_count": null,
   "metadata": {
    "collapsed": true
   },
   "outputs": [],
   "source": []
  }
 ],
 "metadata": {
  "kernelspec": {
   "display_name": "Python 3",
   "language": "python",
   "name": "python3"
  },
  "language_info": {
   "codemirror_mode": {
    "name": "ipython",
    "version": 3
   },
   "file_extension": ".py",
   "mimetype": "text/x-python",
   "name": "python",
   "nbconvert_exporter": "python",
   "pygments_lexer": "ipython3",
   "version": "3.6.2"
  }
 },
 "nbformat": 4,
 "nbformat_minor": 2
}
